{
 "cells": [
  {
   "cell_type": "code",
   "execution_count": null,
   "id": "489d67d3",
   "metadata": {
    "execution": {
     "iopub.execute_input": "2023-11-09T19:56:25.254310Z",
     "iopub.status.busy": "2023-11-09T19:56:25.254037Z",
     "iopub.status.idle": "2023-11-09T19:56:43.585433Z",
     "shell.execute_reply": "2023-11-09T19:56:43.584536Z"
    },
    "papermill": {
     "duration": 18.339238,
     "end_time": "2023-11-09T19:56:43.587921",
     "exception": false,
     "start_time": "2023-11-09T19:56:25.248683",
     "status": "completed"
    },
    "tags": []
   },
   "outputs": [],
   "source": [
    "import os\n",
    "import cv2\n",
    "import numpy as np\n",
    "from tensorflow.keras.models import Model\n",
    "from tensorflow.keras.optimizers import Adam\n",
    "from tensorflow.keras.utils import to_categorical\n",
    "from tensorflow.keras.preprocessing.image import ImageDataGenerator\n",
    "from tensorflow.keras.layers import Input, Conv2D, MaxPooling2D, Flatten, Dense"
   ]
  },
  {
   "cell_type": "markdown",
   "id": "5508fd94",
   "metadata": {
    "papermill": {
     "duration": 0.003457,
     "end_time": "2023-11-09T19:56:43.595512",
     "exception": false,
     "start_time": "2023-11-09T19:56:43.592055",
     "status": "completed"
    },
    "tags": []
   },
   "source": [
    "**Directory Path**"
   ]
  },
  {
   "cell_type": "code",
   "execution_count": null,
   "id": "b265f2fd",
   "metadata": {
    "execution": {
     "iopub.execute_input": "2023-11-09T19:56:43.604075Z",
     "iopub.status.busy": "2023-11-09T19:56:43.603550Z",
     "iopub.status.idle": "2023-11-09T19:56:43.607615Z",
     "shell.execute_reply": "2023-11-09T19:56:43.606814Z"
    },
    "papermill": {
     "duration": 0.010436,
     "end_time": "2023-11-09T19:56:43.609527",
     "exception": false,
     "start_time": "2023-11-09T19:56:43.599091",
     "status": "completed"
    },
    "tags": []
   },
   "outputs": [],
   "source": [
    "Training_path = \"dataset/seg_train\"\n",
    "Validation_path = \"dataset/seg_test\""
   ]
  },
  {
   "cell_type": "code",
   "execution_count": null,
   "id": "04f7cf5b",
   "metadata": {
    "execution": {
     "iopub.execute_input": "2023-11-09T19:56:43.617997Z",
     "iopub.status.busy": "2023-11-09T19:56:43.617717Z",
     "iopub.status.idle": "2023-11-09T19:59:23.289685Z",
     "shell.execute_reply": "2023-11-09T19:59:23.288373Z"
    },
    "papermill": {
     "duration": 159.678687,
     "end_time": "2023-11-09T19:59:23.291943",
     "exception": false,
     "start_time": "2023-11-09T19:56:43.613256",
     "status": "completed"
    },
    "tags": []
   },
   "outputs": [],
   "source": [
    "# Load and preprocess training images\n",
    "labels_train = []\n",
    "images_train = []\n",
    "# Iterate over subdirectories in Training_path\n",
    "for label in os.listdir(Training_path):\n",
    "    #print(\"打印label:\",label)\n",
    "    imgpath = os.path.join(Training_path, label)\n",
    "    #  print(\"打印imgpath:\",imgpath)\n",
    "\n",
    "    # Check if it's a directory\n",
    "    if os.path.isdir(imgpath):\n",
    "       #   print(\"走进\")\n",
    "        # Iterate over files in the directory\n",
    "        for file in os.listdir(imgpath):\n",
    "            imagess = os.path.join(imgpath, file)\n",
    "           #   print(\"打印imagess:\",imagess)\n",
    "            # Check if it's a file\n",
    "            if os.path.isfile(imagess):\n",
    "               # print(\"打印labels_train追加\")\n",
    "                # print(\"打印labels_train追加:\",label)\n",
    "                # print(\"打印labels_train追加imgpath:\",imgpath)\n",
    "                labels_train.append(label)\n",
    "                images_train.append(imagess)\n",
    "            else:\n",
    "                print(f\"Skipping non-file: {imagess}\")\n",
    "    else:\n",
    "        print(f\"Skipping non-directory: {imgpath}\")\n",
    "\n",
    "# Create a dictionary to map labels to numerical values\n",
    "label_to_num = {label: i for i, label in enumerate(np.unique(labels_train))}\n",
    "#print(\"打印labels_train的值1111:\",labels_train)\n",
    "for label in enumerate(np.unique(labels_train)):\n",
    "    print(\"打印label2222222:\",label)\n",
    "\n",
    "num_labels = len(label_to_num)\n",
    "\n",
    "# Convert training labels to numerical values\n",
    "labels_train = [label_to_num[label] for label in labels_train]\n",
    "\n",
    "# Print some diagnostic information\n",
    "print(\"Number of labels:\", len(labels_train))\n",
    "print(\"Unique labels:\", np.unique(labels_train))\n",
    "# print(\"打印imgpath:\",imgpath)\n",
    "# print(\"打印label33333:\",label)\n",
    "\n",
    "# Check if labels_train is empty\n",
    "if not labels_train:\n",
    "    raise ValueError(\"Empty labels_train array\")\n",
    "\n",
    "\n",
    "# Load and preprocess training images\n",
    "X_train = []\n",
    "for img_path in images_train:\n",
    "    try:\n",
    "        img = cv2.imread(img_path)\n",
    "        if img is not None:\n",
    "            img = cv2.resize(img, (150, 150))\n",
    "            img = img / 255.0  # Normalize pixel values to [0, 1]\n",
    "            X_train.append(img)\n",
    "        else:\n",
    "            print(f\"Error reading image: {img_path}\")\n",
    "    except Exception as e:\n",
    "        print(f\"Error processing image: {img_path}, {e}\")\n",
    "\n",
    "X_train = np.array(X_train)\n",
    "\n",
    "# Print some diagnostic information\n",
    "print(\"X_train shape:\", X_train.shape)\n",
    "\n",
    "# Convert labels to categorical\n",
    "Y_train = to_categorical(labels_train, num_labels)\n",
    "\n",
    "# Load and preprocess validation images\n",
    "labels_val = []\n",
    "images_val = []\n",
    "\n",
    "# Iterate over subdirectories in Validation_path\n",
    "for label in os.listdir(Validation_path):\n",
    "    imgpath = os.path.join(Validation_path, label)\n",
    "\n",
    "    # Check if it's a directory\n",
    "    if os.path.isdir(imgpath):\n",
    "        # Iterate over files in the directory\n",
    "        for file in os.listdir(imgpath):\n",
    "            imagess = os.path.join(imgpath, file)\n",
    "\n",
    "            # Check if it's a file\n",
    "            if os.path.isfile(imagess):\n",
    "                labels_val.append(label)\n",
    "                images_val.append(imagess)\n",
    "            else:\n",
    "                print(f\"Skipping non-file: {imagess}\")\n",
    "    else:\n",
    "        print(f\"Skipping non-directory: {imgpath}\")\n",
    "\n",
    "# Convert validation labels to numerical values\n",
    "labels_val = [label_to_num[label] for label in labels_val]\n",
    "\n",
    "# Load and preprocess validation images\n",
    "X_val = []\n",
    "for img_path in images_val:\n",
    "    try:\n",
    "        img = cv2.imread(img_path)\n",
    "        if img is not None:\n",
    "            img = cv2.resize(img, (150, 150))\n",
    "            img = img / 255.0  # Normalize pixel values to [0, 1]\n",
    "            X_val.append(img)\n",
    "        else:\n",
    "            print(f\"Error reading image: {img_path}\")\n",
    "    except Exception as e:\n",
    "        print(f\"Error processing image: {img_path}, {e}\")\n",
    "\n",
    "X_val = np.array(X_val)\n",
    "\n",
    "# Print some diagnostic information\n",
    "#print(\"X_val shape:\", X_val.shape)\n",
    "\n",
    "# Convert labels to categorical\n",
    "Y_val = to_categorical(labels_val, num_labels)\n",
    "#print(\"打印labels_val:\",labels_val)\n",
    "#print(\"打印num_labels:\",num_labels)\n",
    "#print(\"打印Y_val:\",Y_val)"
   ]
  },
  {
   "cell_type": "markdown",
   "id": "321b9f39",
   "metadata": {
    "papermill": {
     "duration": 0.003885,
     "end_time": "2023-11-09T19:59:23.300006",
     "exception": false,
     "start_time": "2023-11-09T19:59:23.296121",
     "status": "completed"
    },
    "tags": []
   },
   "source": [
    "**Building CNN Model**"
   ]
  },
  {
   "cell_type": "code",
   "execution_count": null,
   "id": "bf806727",
   "metadata": {
    "execution": {
     "iopub.execute_input": "2023-11-09T19:59:23.309247Z",
     "iopub.status.busy": "2023-11-09T19:59:23.308942Z",
     "iopub.status.idle": "2023-11-09T19:59:29.278335Z",
     "shell.execute_reply": "2023-11-09T19:59:29.277408Z"
    },
    "papermill": {
     "duration": 5.984669,
     "end_time": "2023-11-09T19:59:29.288743",
     "exception": false,
     "start_time": "2023-11-09T19:59:23.304074",
     "status": "completed"
    },
    "tags": []
   },
   "outputs": [],
   "source": [
    "# Define the CNN model\n",
    "\n",
    "input_layer = Input(shape=(150, 150, 3))\n",
    "\n",
    "# Convolutional layers\n",
    "conv1 = Conv2D(16, (3, 3), activation='relu')(input_layer)\n",
    "maxpool1 = MaxPooling2D((2, 2))(conv1)\n",
    "\n",
    "conv2 = Conv2D(32, (3, 3), activation='relu')(maxpool1)\n",
    "maxpool2 = MaxPooling2D((2, 2))(conv2)\n",
    "\n",
    "# Flatten and fully connected layers\n",
    "flatten = Flatten()(maxpool2)\n",
    "dense1 = Dense(128, activation='relu')(flatten)\n",
    "output_layer = Dense(2, activation='softmax')(dense1)  ###要改\n",
    "model = Model(inputs=input_layer, outputs=output_layer)\n",
    "\n",
    "# Display model summary\n",
    "model.summary()\n"
   ]
  },
  {
   "cell_type": "markdown",
   "id": "3d9df229",
   "metadata": {
    "papermill": {
     "duration": 0.00583,
     "end_time": "2023-11-09T19:59:29.300687",
     "exception": false,
     "start_time": "2023-11-09T19:59:29.294857",
     "status": "completed"
    },
    "tags": []
   },
   "source": [
    "**Compile Model ,Training & Evaluating**"
   ]
  },
  {
   "cell_type": "code",
   "execution_count": null,
   "id": "9d526f8c",
   "metadata": {
    "execution": {
     "iopub.execute_input": "2023-11-09T19:59:29.314532Z",
     "iopub.status.busy": "2023-11-09T19:59:29.313924Z",
     "iopub.status.idle": "2023-11-09T20:26:44.688927Z",
     "shell.execute_reply": "2023-11-09T20:26:44.687913Z"
    },
    "papermill": {
     "duration": 1635.384137,
     "end_time": "2023-11-09T20:26:44.690914",
     "exception": false,
     "start_time": "2023-11-09T19:59:29.306777",
     "status": "completed"
    },
    "tags": []
   },
   "outputs": [],
   "source": [
    "# Compile the model\n",
    "model.compile(optimizer=Adam(learning_rate=0.001), loss='categorical_crossentropy', metrics=['accuracy'])\n",
    "\n",
    "# Data augmentation to increase model generalization\n",
    "datagen = ImageDataGenerator(\n",
    "    rotation_range=15,\n",
    "    width_shift_range=0.1,\n",
    "    height_shift_range=0.1,\n",
    "    horizontal_flip=True\n",
    ")\n",
    "datagen.fit(X_train)\n",
    "\n",
    "# Train the model with validation data\n",
    "batch_size = 32\n",
    "epochs = 100 \n",
    "model.fit(datagen.flow(X_train, Y_train, batch_size=batch_size), epochs=epochs, validation_data=(X_val, Y_val))\n",
    "\n",
    "# Evaluate the model on training data\n",
    "train_loss, train_acc = model.evaluate(X_train, Y_train)\n",
    "print(f'Training Accuracy: {train_acc}')\n",
    "\n",
    "# Evaluate the model on validation data\n",
    "val_loss, val_acc = model.evaluate(X_val, Y_val)\n",
    "print(f'Validation Accuracy: {val_acc}')\n",
    "\n",
    "# Save the model\n"
   ]
  },
  {
   "cell_type": "code",
   "execution_count": null,
   "id": "31ff0914",
   "metadata": {},
   "outputs": [],
   "source": [
    "model.save('Image_Classification_Model_03_1000.h5')"
   ]
  },
  {
   "cell_type": "code",
   "execution_count": null,
   "id": "1dfcec78",
   "metadata": {
    "execution": {
     "iopub.execute_input": "2023-11-09T20:26:46.066015Z",
     "iopub.status.busy": "2023-11-09T20:26:46.065634Z",
     "iopub.status.idle": "2023-11-09T20:26:46.070609Z",
     "shell.execute_reply": "2023-11-09T20:26:46.069702Z"
    },
    "papermill": {
     "duration": 0.696286,
     "end_time": "2023-11-09T20:26:46.072585",
     "exception": false,
     "start_time": "2023-11-09T20:26:45.376299",
     "status": "completed"
    },
    "tags": []
   },
   "outputs": [],
   "source": [
    "print(f'Training Accuracy: {train_acc}')\n",
    "print(f'Validation Accuracy: {val_acc}')"
   ]
  },
  {
   "cell_type": "markdown",
   "id": "f4c6a6f2",
   "metadata": {
    "papermill": {
     "duration": 0.688077,
     "end_time": "2023-11-09T20:26:47.496163",
     "exception": false,
     "start_time": "2023-11-09T20:26:46.808086",
     "status": "completed"
    },
    "tags": []
   },
   "source": [
    "**Draw a Confusion Matrix**"
   ]
  },
  {
   "cell_type": "code",
   "execution_count": 1,
   "id": "2a0bf6b8",
   "metadata": {},
   "outputs": [
    {
     "name": "stderr",
     "output_type": "stream",
     "text": [
      "2023-12-19 19:21:31.177275: I tensorflow/core/util/port.cc:110] oneDNN custom operations are on. You may see slightly different numerical results due to floating-point round-off errors from different computation orders. To turn them off, set the environment variable `TF_ENABLE_ONEDNN_OPTS=0`.\n",
      "2023-12-19 19:21:31.178399: I tensorflow/tsl/cuda/cudart_stub.cc:28] Could not find cuda drivers on your machine, GPU will not be used.\n",
      "2023-12-19 19:21:31.198437: I tensorflow/tsl/cuda/cudart_stub.cc:28] Could not find cuda drivers on your machine, GPU will not be used.\n",
      "2023-12-19 19:21:31.199003: I tensorflow/core/platform/cpu_feature_guard.cc:182] This TensorFlow binary is optimized to use available CPU instructions in performance-critical operations.\n",
      "To enable the following instructions: AVX2 AVX_VNNI FMA, in other operations, rebuild TensorFlow with the appropriate compiler flags.\n",
      "2023-12-19 19:21:31.475264: W tensorflow/compiler/tf2tensorrt/utils/py_utils.cc:38] TF-TRT Warning: Could not find TensorRT\n",
      "2023-12-19 19:21:31.739916: I tensorflow/compiler/xla/stream_executor/cuda/cuda_gpu_executor.cc:995] successful NUMA node read from SysFS had negative value (-1), but there must be at least one NUMA node, so returning NUMA node zero. See more at https://github.com/torvalds/linux/blob/v6.0/Documentation/ABI/testing/sysfs-bus-pci#L344-L355\n",
      "2023-12-19 19:21:31.740098: W tensorflow/core/common_runtime/gpu/gpu_device.cc:1960] Cannot dlopen some GPU libraries. Please make sure the missing libraries mentioned above are installed properly if you would like to use GPU. Follow the guide at https://www.tensorflow.org/install/gpu for how to download and setup the required libraries for your platform.\n",
      "Skipping registering GPU devices...\n"
     ]
    },
    {
     "name": "stdout",
     "output_type": "stream",
     "text": [
      "1/1 [==============================] - 0s 109ms/step\n"
     ]
    },
    {
     "ename": "NameError",
     "evalue": "name 'idx' is not defined",
     "output_type": "error",
     "traceback": [
      "\u001b[0;31m---------------------------------------------------------------------------\u001b[0m",
      "\u001b[0;31mNameError\u001b[0m                                 Traceback (most recent call last)",
      "Cell \u001b[0;32mIn[1], line 37\u001b[0m\n\u001b[1;32m     34\u001b[0m model \u001b[38;5;241m=\u001b[39m load_model(\u001b[38;5;124m'\u001b[39m\u001b[38;5;124mImage_Classification_Model_03_1000.h5\u001b[39m\u001b[38;5;124m'\u001b[39m)\n\u001b[1;32m     36\u001b[0m prediction \u001b[38;5;241m=\u001b[39m model\u001b[38;5;241m.\u001b[39mpredict(X_val)\n\u001b[0;32m---> 37\u001b[0m \u001b[38;5;28mprint\u001b[39m(prediction[\u001b[43midx\u001b[49m])\n\u001b[1;32m     39\u001b[0m \u001b[38;5;66;03m#labels={0:'cemian',1:'ceph',2:\"inner_bottom\",3:\"inner_center\",4:\"inner_left\",5:\"inner_right\",6:\"inner_top\",7:\"weixiao\",8:\"zhengmian\"}\u001b[39;00m\n\u001b[1;32m     40\u001b[0m labels\u001b[38;5;241m=\u001b[39m{\u001b[38;5;241m0\u001b[39m:\u001b[38;5;124m'\u001b[39m\u001b[38;5;124mceph\u001b[39m\u001b[38;5;124m'\u001b[39m,\u001b[38;5;241m1\u001b[39m:\u001b[38;5;124m'\u001b[39m\u001b[38;5;124mother\u001b[39m\u001b[38;5;124m'\u001b[39m}\n",
      "\u001b[0;31mNameError\u001b[0m: name 'idx' is not defined"
     ]
    }
   ],
   "source": [
    "import os\n",
    "import cv2\n",
    "import numpy as np\n",
    "import pandas as pd\n",
    "import dtale\n",
    "\n",
    "\n",
    "import datetime\n",
    "# 获取当前时间\n",
    "current_time = datetime.datetime.now()\n",
    "# 将时间格式化为字符串\n",
    "formatted_time = current_time.strftime(\"%Y%m%d%H%M%S\")\n",
    "\n",
    "path=\"dataset/seg_pred/\"\n",
    "\n",
    "\n",
    "\n",
    "for  root, dirs, files in os.walk(path):\n",
    "    result_data=[]\n",
    "    column_name_data=[\"picture_name\",'predict_label'] \n",
    "    \n",
    "    for file in files:\n",
    "        X_val = []\n",
    "        column_name =[] \n",
    "        data1=[]\n",
    "        img = cv2.imread(path+file)\n",
    "        if img is not None:\n",
    "            img = cv2.resize(img, (150, 150))\n",
    "            img = img / 255.0  # Normalize pixel values to [0, 1]\n",
    "            X_val.append(img)\n",
    "        X_val = np.array(X_val)\n",
    "\n",
    "        from keras.models import load_model\n",
    "        model = load_model('Image_Classification_Model_03_1000.h5')\n",
    "\n",
    "        prediction = model.predict(X_val)\n",
    "\n",
    "        #labels={0:'cemian',1:'ceph',2:\"inner_bottom\",3:\"inner_center\",4:\"inner_left\",5:\"inner_right\",6:\"inner_top\",7:\"weixiao\",8:\"zhengmian\"}\n",
    "        labels={0:'ceph',1:'other'}\n",
    "       # column_name_data.append(file)\n",
    "        data1.append(file)\n",
    "        idx=0\n",
    "        for j in range(5):\n",
    "            predicted_label = labels[np.argmax(prediction[idx])]\n",
    "        data1.append(predicted_label)\n",
    "        # print(\"打印data1的数据:\",data1)\n",
    "        result_data.append(data1)\n",
    "    # print(\"打印column_name_data:\",column_name_data)\n",
    "    # print(\"打印result_data:\",result_data)\n",
    "   # result_data=[\"weixiao34.JPG\",\"zheng\"]\n",
    "    df = pd.DataFrame(result_data, columns=column_name_data)\n",
    "    df.to_excel('图片分类_'+formatted_time+'.xlsx', index=True)\n",
    "    dtale.show(df, open_browser=True)"
   ]
  }
 ],
 "metadata": {
  "kernelspec": {
   "display_name": "Python 3",
   "language": "python",
   "name": "python3"
  },
  "language_info": {
   "codemirror_mode": {
    "name": "ipython",
    "version": 3
   },
   "file_extension": ".py",
   "mimetype": "text/x-python",
   "name": "python",
   "nbconvert_exporter": "python",
   "pygments_lexer": "ipython3",
   "version": "3.8.17"
  },
  "papermill": {
   "default_parameters": {},
   "duration": 1839.369537,
   "end_time": "2023-11-09T20:27:00.015947",
   "environment_variables": {},
   "exception": null,
   "input_path": "__notebook__.ipynb",
   "output_path": "__notebook__.ipynb",
   "parameters": {},
   "start_time": "2023-11-09T19:56:20.646410",
   "version": "2.4.0"
  }
 },
 "nbformat": 4,
 "nbformat_minor": 5
}
